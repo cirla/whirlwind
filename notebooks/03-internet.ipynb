{
 "cells": [
  {
   "cell_type": "markdown",
   "metadata": {},
   "source": [
    "# Interacting With the Internet\n",
    "\n",
    "Let's explore the Internet using Python.\n",
    "\n",
    "We'll start with an incredibly useful and easy to use library called [requests](http://docs.python-requests.org/en/master/) which abstracts away the complexities of HTTP (the protocol used by your browser when you visit a web page).\n",
    "\n",
    "## HTTP and HTML"
   ]
  },
  {
   "cell_type": "code",
   "execution_count": 1,
   "metadata": {},
   "outputs": [],
   "source": [
    "import requests"
   ]
  },
  {
   "cell_type": "markdown",
   "metadata": {},
   "source": [
    "Let's ask for the Wikipedia page on the Star Wars franchise:"
   ]
  },
  {
   "cell_type": "code",
   "execution_count": 2,
   "metadata": {},
   "outputs": [
    {
     "data": {
      "text/plain": [
       "<Response [200]>"
      ]
     },
     "execution_count": 2,
     "metadata": {},
     "output_type": "execute_result"
    }
   ],
   "source": [
    "response = requests.get('https://en.wikipedia.org/wiki/Star_Wars')\n",
    "response"
   ]
  },
  {
   "cell_type": "markdown",
   "metadata": {},
   "source": [
    "The 200 in the response is an [HTTP status code](https://en.wikipedia.org/wiki/List_of_HTTP_status_codes) that means that everything is OK.\n",
    "Status codes are grouped into five groups:\n",
    "\n",
    "* 1xx (Informational): The request was received, continuing process\n",
    "* 2xx (Successful): The request was successfully received, understood, and accepted\n",
    "* 3xx (Redirection): Further action needs to be taken in order to complete the request\n",
    "* 4xx (Client Error): The request contains bad syntax or cannot be fulfilled\n",
    "* 5xx (Server Error): The server failed to fulfill an apparently valid request"
   ]
  },
  {
   "cell_type": "code",
   "execution_count": 3,
   "metadata": {},
   "outputs": [
    {
     "data": {
      "text/plain": [
       "200"
      ]
     },
     "execution_count": 3,
     "metadata": {},
     "output_type": "execute_result"
    }
   ],
   "source": [
    "response.status_code"
   ]
  },
  {
   "cell_type": "markdown",
   "metadata": {},
   "source": [
    "Let's take a look at what the server actually returned:"
   ]
  },
  {
   "cell_type": "code",
   "execution_count": 4,
   "metadata": {},
   "outputs": [
    {
     "data": {
      "text/plain": [
       "'<!DOCTYPE html>\\n<html class=\"client-nojs\" lang=\"en\" dir=\"ltr\">\\n<head>\\n<meta charset=\"UTF-8\"/>\\n<title>Star Wars - Wikipedia</title>\\n<script>document.documentElement.className = document.documentElement.className.replace( /(^|\\\\s)client-nojs(\\\\s|$)/, \"$1client-js$2\" );</script>\\n<script>(window.RLQ=window.RLQ||[]).push(function(){mw.config.set({\"wgCanonicalNamespace\":\"\",\"wgCanonicalSpecialPageName\":false,\"wgNamespaceNumber\":0,\"wgPageName\":\"Star_Wars\",\"wgTitle\":\"Star Wars\",\"wgCurRevisionId\":864265876,\"wgRevisionId\":864265876,\"wgArticleId\":26678,\"wgIsArticle\":true,\"wgIsRedirect\":false,\"wgAction\":\"view\",\"wgUserName\":null,\"wgUserGroups\":[\"*\"],\"wgCategories\":[\"Wikipedia indefinitely semi-protected pages\",\"Wikipedia indefinitely move-protected pages\",\"Use mdy dates from March 2017\",\"Pages using multiple image with auto scaled images\",\"Official website different in Wikidata and Wikipedia\",\"Wikipedia articles with BNF identifiers\",\"Wikipedia articles with GND identifiers\",\"Wikipedia articles with L'"
      ]
     },
     "execution_count": 4,
     "metadata": {},
     "output_type": "execute_result"
    }
   ],
   "source": [
    "# just take a peek at the first 1000 characters because it's long\n",
    "response.text[:1000]"
   ]
  },
  {
   "cell_type": "markdown",
   "metadata": {},
   "source": [
    "This is the raw [HTML](https://en.wikipedia.org/wiki/HTML) data that your browser would recieve from Wikipedia's server and then process and render it into the web page you're used to seeing.\n",
    "It's a lot of data and a bit overwhelming, but luckily there's a really handy library for searching through HTML and finding the information that we need called [Beautiful Soup](https://www.crummy.com/software/BeautifulSoup/bs4/doc/)."
   ]
  },
  {
   "cell_type": "code",
   "execution_count": 5,
   "metadata": {},
   "outputs": [],
   "source": [
    "from bs4 import BeautifulSoup\n",
    "soup = BeautifulSoup(response.text)"
   ]
  },
  {
   "cell_type": "markdown",
   "metadata": {},
   "source": [
    "Using my browser to inspect the source of the web page, I can see that there's a table with all of the Star Wars movies right after a heading with the id `Skywalker_saga`:"
   ]
  },
  {
   "cell_type": "code",
   "execution_count": 6,
   "metadata": {},
   "outputs": [
    {
     "data": {
      "text/plain": [
       "<span class=\"mw-headline\" id=\"Skywalker_saga\">Skywalker saga</span>"
      ]
     },
     "execution_count": 6,
     "metadata": {},
     "output_type": "execute_result"
    }
   ],
   "source": [
    "header = soup.find(id='Skywalker_saga')\n",
    "header"
   ]
  },
  {
   "cell_type": "markdown",
   "metadata": {},
   "source": [
    "Now I can skip to the next table element and grab everything from its first column."
   ]
  },
  {
   "cell_type": "code",
   "execution_count": 7,
   "metadata": {},
   "outputs": [],
   "source": [
    "# get next <table> element\n",
    "table = header.find_next('table')\n",
    "\n",
    "# get all rows (<tr> elements) from the table\n",
    "rows = table.find_all('tr')\n",
    "\n",
    "# skip the title row\n",
    "rows = rows[1:]\n",
    "\n",
    "# get the headers (<th> elements) from each row\n",
    "headers = [row.find_next('th') for row in rows]"
   ]
  },
  {
   "cell_type": "markdown",
   "metadata": {},
   "source": [
    "A quick note:\n",
    "\n",
    "```python\n",
    "x = [a*2 for a in b]\n",
    "```\n",
    "\n",
    "is a shorthand way of writing:\n",
    "\n",
    "```python\n",
    "x = []\n",
    "for a in b:\n",
    "    x.append(a*2)\n",
    "```"
   ]
  },
  {
   "cell_type": "code",
   "execution_count": 8,
   "metadata": {},
   "outputs": [
    {
     "data": {
      "text/plain": [
       "['Episode IV: A New Hope',\n",
       " 'Episode V: The Empire Strikes Back',\n",
       " 'Episode VI: Return of the Jedi',\n",
       " 'Episode I: The Phantom Menace',\n",
       " 'Episode II: Attack of the Clones',\n",
       " 'Episode III: Revenge of the Sith',\n",
       " 'Episode VII: The Force Awakens',\n",
       " 'Episode VIII: The Last Jedi',\n",
       " 'Episode IX']"
      ]
     },
     "execution_count": 8,
     "metadata": {},
     "output_type": "execute_result"
    }
   ],
   "source": [
    "# get the links (<a> elements) from each header\n",
    "links = [h.find_next('a') for h in headers]\n",
    "\n",
    "# get the text from inside the links e.g. ['Episode IV', 'A New Hope']\n",
    "movie_titles = [l.find_all(text=True) for l in links]\n",
    "\n",
    "# join titles together with a colon\n",
    "movie_titles = [': '.join(title_parts) for title_parts in movie_titles]\n",
    "\n",
    "movie_titles"
   ]
  },
  {
   "cell_type": "markdown",
   "metadata": {},
   "source": [
    "That was a lot of work just to get the information we wanted, though not nearly as much as if we had to write our own code to handle the HTTP request and to parse what we wanted from the HTML response.\n",
    "The problem is that HTML is typically intended for your browser to render, not necessarily for you to dig through and extract bits of information.\n",
    "Often when data is meant to be consumed by other programs, it will be exposed through an API (application programming interface) to make it simpler to write code to interact with.\n",
    "\n",
    "## APIs\n",
    "\n",
    "Luckily for us, there exists a [Star Wars API](https://swapi.co/documentation)!\n",
    "APIs typically have different URLs to organize the information they provide.\n",
    "Looking through the documentation, there's a URL for dealing with the films:"
   ]
  },
  {
   "cell_type": "code",
   "execution_count": 9,
   "metadata": {},
   "outputs": [
    {
     "data": {
      "text/plain": [
       "200"
      ]
     },
     "execution_count": 9,
     "metadata": {},
     "output_type": "execute_result"
    }
   ],
   "source": [
    "response = requests.get('https://swapi.co/api/films')\n",
    "response.status_code"
   ]
  },
  {
   "cell_type": "markdown",
   "metadata": {},
   "source": [
    "Success! Let's take a peek at the data returned:"
   ]
  },
  {
   "cell_type": "code",
   "execution_count": 10,
   "metadata": {},
   "outputs": [
    {
     "data": {
      "text/plain": [
       "'{\"count\":7,\"next\":null,\"previous\":null,\"results\":[{\"title\":\"A New Hope\",\"episode_id\":4,\"opening_crawl\":\"It is a period of civil war.\\\\r\\\\nRebel spaceships, striking\\\\r\\\\nfrom a hidden base, have won\\\\r\\\\ntheir first victory against\\\\r\\\\nthe evil Galactic Empire.\\\\r\\\\n\\\\r\\\\nDuring the battle, Rebel\\\\r\\\\nspies managed to steal secret\\\\r\\\\nplans to the Empire\\'s\\\\r\\\\nultimate weapon, the DEATH\\\\r\\\\nSTAR, an armored space\\\\r\\\\nstation with enough power\\\\r\\\\nto destroy an entire planet.\\\\r\\\\n\\\\r\\\\nPursued by the Empire\\'s\\\\r\\\\nsinister agents, Princess\\\\r\\\\nLeia races home aboard her\\\\r\\\\nstarship, custodian of the\\\\r\\\\nstolen plans that can save her\\\\r\\\\npeople and restore\\\\r\\\\nfreedom to the galaxy....\",\"director\":\"George Lucas\",\"producer\":\"Gary Kurtz, Rick McCallum\",\"release_date\":\"1977-05-25\",\"characters\":[\"https://swapi.co/api/people/1/\",\"https://swapi.co/api/people/2/\",\"https://swapi.co/api/people/3/\",\"https://swapi.co/api/people/4/\",\"https://swapi.co/api/people/5/\",\"https://swapi.co/api/people/6/\",\"https://swapi.co/api/peopl'"
      ]
     },
     "execution_count": 10,
     "metadata": {},
     "output_type": "execute_result"
    }
   ],
   "source": [
    "response.text[:1000]"
   ]
  },
  {
   "cell_type": "markdown",
   "metadata": {},
   "source": [
    "This response is not HTML but [JSON](https://www.json.org/), a popular format for web APIs as it's easy for both humans and code to read.\n",
    "It's so common that `requests` has an easy way to convert it into a Python dictionary:"
   ]
  },
  {
   "cell_type": "code",
   "execution_count": 11,
   "metadata": {},
   "outputs": [
    {
     "data": {
      "text/plain": [
       "dict_keys(['count', 'next', 'previous', 'results'])"
      ]
     },
     "execution_count": 11,
     "metadata": {},
     "output_type": "execute_result"
    }
   ],
   "source": [
    "results = response.json()\n",
    "results.keys()"
   ]
  },
  {
   "cell_type": "markdown",
   "metadata": {},
   "source": [
    "It looks like what we need is under the 'results' key.\n",
    "Let's take a peek at the data returned for one of the films:"
   ]
  },
  {
   "cell_type": "code",
   "execution_count": 12,
   "metadata": {},
   "outputs": [
    {
     "data": {
      "text/plain": [
       "{'title': 'A New Hope',\n",
       " 'episode_id': 4,\n",
       " 'opening_crawl': \"It is a period of civil war.\\r\\nRebel spaceships, striking\\r\\nfrom a hidden base, have won\\r\\ntheir first victory against\\r\\nthe evil Galactic Empire.\\r\\n\\r\\nDuring the battle, Rebel\\r\\nspies managed to steal secret\\r\\nplans to the Empire's\\r\\nultimate weapon, the DEATH\\r\\nSTAR, an armored space\\r\\nstation with enough power\\r\\nto destroy an entire planet.\\r\\n\\r\\nPursued by the Empire's\\r\\nsinister agents, Princess\\r\\nLeia races home aboard her\\r\\nstarship, custodian of the\\r\\nstolen plans that can save her\\r\\npeople and restore\\r\\nfreedom to the galaxy....\",\n",
       " 'director': 'George Lucas',\n",
       " 'producer': 'Gary Kurtz, Rick McCallum',\n",
       " 'release_date': '1977-05-25',\n",
       " 'characters': ['https://swapi.co/api/people/1/',\n",
       "  'https://swapi.co/api/people/2/',\n",
       "  'https://swapi.co/api/people/3/',\n",
       "  'https://swapi.co/api/people/4/',\n",
       "  'https://swapi.co/api/people/5/',\n",
       "  'https://swapi.co/api/people/6/',\n",
       "  'https://swapi.co/api/people/7/',\n",
       "  'https://swapi.co/api/people/8/',\n",
       "  'https://swapi.co/api/people/9/',\n",
       "  'https://swapi.co/api/people/10/',\n",
       "  'https://swapi.co/api/people/12/',\n",
       "  'https://swapi.co/api/people/13/',\n",
       "  'https://swapi.co/api/people/14/',\n",
       "  'https://swapi.co/api/people/15/',\n",
       "  'https://swapi.co/api/people/16/',\n",
       "  'https://swapi.co/api/people/18/',\n",
       "  'https://swapi.co/api/people/19/',\n",
       "  'https://swapi.co/api/people/81/'],\n",
       " 'planets': ['https://swapi.co/api/planets/2/',\n",
       "  'https://swapi.co/api/planets/3/',\n",
       "  'https://swapi.co/api/planets/1/'],\n",
       " 'starships': ['https://swapi.co/api/starships/2/',\n",
       "  'https://swapi.co/api/starships/3/',\n",
       "  'https://swapi.co/api/starships/5/',\n",
       "  'https://swapi.co/api/starships/9/',\n",
       "  'https://swapi.co/api/starships/10/',\n",
       "  'https://swapi.co/api/starships/11/',\n",
       "  'https://swapi.co/api/starships/12/',\n",
       "  'https://swapi.co/api/starships/13/'],\n",
       " 'vehicles': ['https://swapi.co/api/vehicles/4/',\n",
       "  'https://swapi.co/api/vehicles/6/',\n",
       "  'https://swapi.co/api/vehicles/7/',\n",
       "  'https://swapi.co/api/vehicles/8/'],\n",
       " 'species': ['https://swapi.co/api/species/5/',\n",
       "  'https://swapi.co/api/species/3/',\n",
       "  'https://swapi.co/api/species/2/',\n",
       "  'https://swapi.co/api/species/1/',\n",
       "  'https://swapi.co/api/species/4/'],\n",
       " 'created': '2014-12-10T14:23:31.880000Z',\n",
       " 'edited': '2015-04-11T09:46:52.774897Z',\n",
       " 'url': 'https://swapi.co/api/films/1/'}"
      ]
     },
     "execution_count": 12,
     "metadata": {},
     "output_type": "execute_result"
    }
   ],
   "source": [
    "films = results['results']\n",
    "films[0]"
   ]
  },
  {
   "cell_type": "markdown",
   "metadata": {},
   "source": [
    "We could grab all the titles:"
   ]
  },
  {
   "cell_type": "code",
   "execution_count": 13,
   "metadata": {},
   "outputs": [
    {
     "data": {
      "text/plain": [
       "['A New Hope',\n",
       " 'Attack of the Clones',\n",
       " 'The Phantom Menace',\n",
       " 'Revenge of the Sith',\n",
       " 'Return of the Jedi',\n",
       " 'The Empire Strikes Back',\n",
       " 'The Force Awakens']"
      ]
     },
     "execution_count": 13,
     "metadata": {},
     "output_type": "execute_result"
    }
   ],
   "source": [
    "[film['title'] for film in films]"
   ]
  },
  {
   "cell_type": "markdown",
   "metadata": {},
   "source": [
    "It looks like this API doesn't have data for \"The Last Jedi\" yet, but that's ok.\n",
    "It's a lot easier to work with than parsing HTML from the Wikipedia page!\n",
    "\n",
    "Let's follow one of those character links to see where it leads:"
   ]
  },
  {
   "cell_type": "code",
   "execution_count": 14,
   "metadata": {},
   "outputs": [
    {
     "data": {
      "text/plain": [
       "{'name': 'Luke Skywalker',\n",
       " 'height': '172',\n",
       " 'mass': '77',\n",
       " 'hair_color': 'blond',\n",
       " 'skin_color': 'fair',\n",
       " 'eye_color': 'blue',\n",
       " 'birth_year': '19BBY',\n",
       " 'gender': 'male',\n",
       " 'homeworld': 'https://swapi.co/api/planets/1/',\n",
       " 'films': ['https://swapi.co/api/films/2/',\n",
       "  'https://swapi.co/api/films/6/',\n",
       "  'https://swapi.co/api/films/3/',\n",
       "  'https://swapi.co/api/films/1/',\n",
       "  'https://swapi.co/api/films/7/'],\n",
       " 'species': ['https://swapi.co/api/species/1/'],\n",
       " 'vehicles': ['https://swapi.co/api/vehicles/14/',\n",
       "  'https://swapi.co/api/vehicles/30/'],\n",
       " 'starships': ['https://swapi.co/api/starships/12/',\n",
       "  'https://swapi.co/api/starships/22/'],\n",
       " 'created': '2014-12-09T13:50:51.644000Z',\n",
       " 'edited': '2014-12-20T21:17:56.891000Z',\n",
       " 'url': 'https://swapi.co/api/people/1/'}"
      ]
     },
     "execution_count": 14,
     "metadata": {},
     "output_type": "execute_result"
    }
   ],
   "source": [
    "person = requests.get('https://swapi.co/api/people/1/').json()\n",
    "person"
   ]
  },
  {
   "cell_type": "markdown",
   "metadata": {},
   "source": [
    "It would be nice if we could abstract all of this code away.\n",
    "Before we do, we have to learn a little bit about **classes**.\n",
    "\n",
    "## OOP\n",
    "\n",
    "Python enables developers to write code that adheres to the paradigm of [object-oriented programming](https://en.wikipedia.org/wiki/Object-oriented_programming).\n",
    "Simply put, it's a way of organizing data and the code that operates on that data together into an **object**.\n",
    "\n",
    "A **class** is a definition of a type and an **object** is an instance of that class of objects.\n",
    "Often functions on classes are referred to as **methods** and data is referred to as **properties**."
   ]
  },
  {
   "cell_type": "code",
   "execution_count": 15,
   "metadata": {},
   "outputs": [],
   "source": [
    "class Dog:\n",
    "    # init is a special \"dunder\" (double underscore) method that initializes an object\n",
    "    def __init__(self, name):\n",
    "        # self is a reference to the instance of the object itself\n",
    "        # name is a parameter we expect to receive\n",
    "        \n",
    "        # save the parameter as a property on this object\n",
    "        self.name = name\n",
    "        \n",
    "    # let's define another method to do something with the data\n",
    "    def whosagooddog(self):\n",
    "        print(f'{self.name} is a good dog!')"
   ]
  },
  {
   "cell_type": "code",
   "execution_count": 16,
   "metadata": {},
   "outputs": [],
   "source": [
    "d = Dog('Rover')"
   ]
  },
  {
   "cell_type": "code",
   "execution_count": 17,
   "metadata": {},
   "outputs": [
    {
     "data": {
      "text/plain": [
       "'Rover'"
      ]
     },
     "execution_count": 17,
     "metadata": {},
     "output_type": "execute_result"
    }
   ],
   "source": [
    "d.name"
   ]
  },
  {
   "cell_type": "code",
   "execution_count": 18,
   "metadata": {},
   "outputs": [
    {
     "name": "stdout",
     "output_type": "stream",
     "text": [
      "Rover is a good dog!\n"
     ]
    }
   ],
   "source": [
    "d.whosagooddog()"
   ]
  },
  {
   "cell_type": "markdown",
   "metadata": {},
   "source": [
    "Classes can also **inherit** from one another so that we can write code once in more generalized classes and take advantage of it in more specialized classes:"
   ]
  },
  {
   "cell_type": "code",
   "execution_count": 19,
   "metadata": {},
   "outputs": [],
   "source": [
    "class Car:\n",
    "    def __init__(self, make, model):\n",
    "        self.make = make\n",
    "        self.model = model\n",
    "        \n",
    "    def honk(self):\n",
    "        print('beep')\n",
    "    \n",
    "# Minivan is a subclass of Car\n",
    "class Minivan(Car):\n",
    "    def __init__(self, make, model, has_tv):\n",
    "        # the special function super() gives us access to self as a member of its parent class\n",
    "        # i.e. here as a Car. We can call into the Car's init function so we don't have to repeat that code\n",
    "        super().__init__(make, model)\n",
    "        self.has_tv = has_tv\n",
    "        \n",
    "    def honk(self):\n",
    "        # here we are overriding the Car implementation of honk\n",
    "        print('boop')\n",
    "        \n",
    "    def watch_dvd(self, movie):\n",
    "        # here we are adding a method that is specific to Minivans\n",
    "        if not self.has_tv:\n",
    "            print('There\\'s no TV!')\n",
    "        else:\n",
    "            print(f'Watching {movie}')"
   ]
  },
  {
   "cell_type": "code",
   "execution_count": 20,
   "metadata": {},
   "outputs": [
    {
     "data": {
      "text/plain": [
       "'Mitsubishi'"
      ]
     },
     "execution_count": 20,
     "metadata": {},
     "output_type": "execute_result"
    }
   ],
   "source": [
    "c = Car('Mitsubishi', 'Galant')\n",
    "c.make"
   ]
  },
  {
   "cell_type": "code",
   "execution_count": 21,
   "metadata": {},
   "outputs": [
    {
     "name": "stdout",
     "output_type": "stream",
     "text": [
      "beep\n"
     ]
    }
   ],
   "source": [
    "c.honk()"
   ]
  },
  {
   "cell_type": "code",
   "execution_count": 22,
   "metadata": {},
   "outputs": [
    {
     "data": {
      "text/plain": [
       "'Odyssey'"
      ]
     },
     "execution_count": 22,
     "metadata": {},
     "output_type": "execute_result"
    }
   ],
   "source": [
    "v = Minivan('Honda', 'Odyssey', True)\n",
    "v.model"
   ]
  },
  {
   "cell_type": "code",
   "execution_count": 23,
   "metadata": {},
   "outputs": [
    {
     "name": "stdout",
     "output_type": "stream",
     "text": [
      "boop\n"
     ]
    }
   ],
   "source": [
    "v.honk()"
   ]
  },
  {
   "cell_type": "code",
   "execution_count": 24,
   "metadata": {},
   "outputs": [
    {
     "name": "stdout",
     "output_type": "stream",
     "text": [
      "Watching Finding Nemo\n"
     ]
    }
   ],
   "source": [
    "v.watch_dvd('Finding Nemo')"
   ]
  },
  {
   "cell_type": "markdown",
   "metadata": {},
   "source": [
    "## API Wrapper\n",
    "\n",
    "Let's use what we've learned and make some classes to interact with the API."
   ]
  },
  {
   "cell_type": "code",
   "execution_count": 25,
   "metadata": {},
   "outputs": [],
   "source": [
    "class StarWarsAPI:\n",
    "    def get_movies(self):\n",
    "        return requests.get('https://swapi.co/api/films').json()['results']\n",
    "    \n",
    "    def get_people(self):\n",
    "        return requests.get('https://swapi.co/api/people').json()['results']"
   ]
  },
  {
   "cell_type": "code",
   "execution_count": 26,
   "metadata": {},
   "outputs": [],
   "source": [
    "api = StarWarsAPI()"
   ]
  },
  {
   "cell_type": "code",
   "execution_count": 27,
   "metadata": {},
   "outputs": [
    {
     "data": {
      "text/plain": [
       "'A New Hope'"
      ]
     },
     "execution_count": 27,
     "metadata": {},
     "output_type": "execute_result"
    }
   ],
   "source": [
    "api.get_movies()[0]['title']"
   ]
  },
  {
   "cell_type": "code",
   "execution_count": 28,
   "metadata": {},
   "outputs": [
    {
     "data": {
      "text/plain": [
       "'Luke Skywalker'"
      ]
     },
     "execution_count": 28,
     "metadata": {},
     "output_type": "execute_result"
    }
   ],
   "source": [
    "api.get_people()[0]['name']"
   ]
  },
  {
   "cell_type": "markdown",
   "metadata": {},
   "source": [
    "Instead of working with dicts, let's create some container classes:"
   ]
  },
  {
   "cell_type": "code",
   "execution_count": 29,
   "metadata": {},
   "outputs": [],
   "source": [
    "class Movie:\n",
    "    def __init__(self, title, characters):\n",
    "        self.title = title\n",
    "        self.characters = characters\n",
    "\n",
    "class Character:\n",
    "    def __init__(self, name, movies):\n",
    "        self.name = name\n",
    "        self.movies = movies\n",
    "        \n",
    "class StarWarsAPI:\n",
    "    def get_movies(self):\n",
    "        movies = requests.get('https://swapi.co/api/films').json()['results']\n",
    "        return [Movie(m['title'], m['characters']) for m in movies]\n",
    "    \n",
    "    def get_people(self):\n",
    "        people = requests.get('https://swapi.co/api/people').json()['results']\n",
    "        return [Character(p['name'], p['films']) for p in people]"
   ]
  },
  {
   "cell_type": "code",
   "execution_count": 30,
   "metadata": {},
   "outputs": [],
   "source": [
    "api = StarWarsAPI()"
   ]
  },
  {
   "cell_type": "code",
   "execution_count": 31,
   "metadata": {},
   "outputs": [],
   "source": [
    "movies = api.get_movies()"
   ]
  },
  {
   "cell_type": "code",
   "execution_count": 32,
   "metadata": {},
   "outputs": [
    {
     "data": {
      "text/plain": [
       "'A New Hope'"
      ]
     },
     "execution_count": 32,
     "metadata": {},
     "output_type": "execute_result"
    }
   ],
   "source": [
    "movies[0].title"
   ]
  },
  {
   "cell_type": "code",
   "execution_count": 33,
   "metadata": {},
   "outputs": [
    {
     "data": {
      "text/plain": [
       "['https://swapi.co/api/people/1/',\n",
       " 'https://swapi.co/api/people/2/',\n",
       " 'https://swapi.co/api/people/3/',\n",
       " 'https://swapi.co/api/people/4/',\n",
       " 'https://swapi.co/api/people/5/',\n",
       " 'https://swapi.co/api/people/6/',\n",
       " 'https://swapi.co/api/people/7/',\n",
       " 'https://swapi.co/api/people/8/',\n",
       " 'https://swapi.co/api/people/9/',\n",
       " 'https://swapi.co/api/people/10/',\n",
       " 'https://swapi.co/api/people/12/',\n",
       " 'https://swapi.co/api/people/13/',\n",
       " 'https://swapi.co/api/people/14/',\n",
       " 'https://swapi.co/api/people/15/',\n",
       " 'https://swapi.co/api/people/16/',\n",
       " 'https://swapi.co/api/people/18/',\n",
       " 'https://swapi.co/api/people/19/',\n",
       " 'https://swapi.co/api/people/81/']"
      ]
     },
     "execution_count": 33,
     "metadata": {},
     "output_type": "execute_result"
    }
   ],
   "source": [
    "movies[0].characters"
   ]
  },
  {
   "cell_type": "markdown",
   "metadata": {},
   "source": [
    "It would be nice if when we asked for the characters, it would go and get the information from the API so we didn't have to see links."
   ]
  },
  {
   "cell_type": "code",
   "execution_count": 34,
   "metadata": {},
   "outputs": [],
   "source": [
    "class Movie:\n",
    "    def __init__(self, title, characters):\n",
    "        self.title = title\n",
    "        self.character_links = characters\n",
    "        \n",
    "    def characters(self):\n",
    "        characters = [requests.get(link).json() for link in self.character_links]\n",
    "        return [\n",
    "            Character(c['name'], c['films'])\n",
    "            for c in characters\n",
    "        ]\n",
    "\n",
    "class Character:\n",
    "    def __init__(self, name, movies):\n",
    "        self.name = name\n",
    "        self.movie_links = movies\n",
    "        \n",
    "    def movies(self):\n",
    "        movies = [requests.get(link).json() for link in self.movie_links]\n",
    "        return [\n",
    "            Movie(m['title'], m['characters'])\n",
    "            for m in movies\n",
    "        ]\n",
    "        \n",
    "class StarWarsAPI:\n",
    "    def get_movies(self):\n",
    "        movies = requests.get('https://swapi.co/api/films').json()['results']\n",
    "        return [Movie(m['title'], m['characters']) for m in movies]\n",
    "    \n",
    "    def get_people(self):\n",
    "        people = requests.get('https://swapi.co/api/people').json()['results']\n",
    "        return [Character(p['name'], p['films']) for p in people]"
   ]
  },
  {
   "cell_type": "code",
   "execution_count": 35,
   "metadata": {},
   "outputs": [],
   "source": [
    "api = StarWarsAPI()"
   ]
  },
  {
   "cell_type": "code",
   "execution_count": 36,
   "metadata": {},
   "outputs": [],
   "source": [
    "movies = api.get_movies()"
   ]
  },
  {
   "cell_type": "code",
   "execution_count": 37,
   "metadata": {},
   "outputs": [
    {
     "data": {
      "text/plain": [
       "'A New Hope'"
      ]
     },
     "execution_count": 37,
     "metadata": {},
     "output_type": "execute_result"
    }
   ],
   "source": [
    "movies[0].title"
   ]
  },
  {
   "cell_type": "code",
   "execution_count": 38,
   "metadata": {},
   "outputs": [],
   "source": [
    "characters = movies[0].characters()"
   ]
  },
  {
   "cell_type": "code",
   "execution_count": 39,
   "metadata": {},
   "outputs": [
    {
     "data": {
      "text/plain": [
       "['Luke Skywalker',\n",
       " 'C-3PO',\n",
       " 'R2-D2',\n",
       " 'Darth Vader',\n",
       " 'Leia Organa',\n",
       " 'Owen Lars',\n",
       " 'Beru Whitesun lars',\n",
       " 'R5-D4',\n",
       " 'Biggs Darklighter',\n",
       " 'Obi-Wan Kenobi',\n",
       " 'Wilhuff Tarkin',\n",
       " 'Chewbacca',\n",
       " 'Han Solo',\n",
       " 'Greedo',\n",
       " 'Jabba Desilijic Tiure',\n",
       " 'Wedge Antilles',\n",
       " 'Jek Tono Porkins',\n",
       " 'Raymus Antilles']"
      ]
     },
     "execution_count": 39,
     "metadata": {},
     "output_type": "execute_result"
    }
   ],
   "source": [
    "[c.name for c in characters]"
   ]
  },
  {
   "cell_type": "code",
   "execution_count": 40,
   "metadata": {},
   "outputs": [
    {
     "data": {
      "text/plain": [
       "'Luke Skywalker'"
      ]
     },
     "execution_count": 40,
     "metadata": {},
     "output_type": "execute_result"
    }
   ],
   "source": [
    "characters[0].name"
   ]
  },
  {
   "cell_type": "code",
   "execution_count": 41,
   "metadata": {},
   "outputs": [
    {
     "data": {
      "text/plain": [
       "['The Empire Strikes Back',\n",
       " 'Revenge of the Sith',\n",
       " 'Return of the Jedi',\n",
       " 'A New Hope',\n",
       " 'The Force Awakens']"
      ]
     },
     "execution_count": 41,
     "metadata": {},
     "output_type": "execute_result"
    }
   ],
   "source": [
    "[m.title for m in characters[0].movies()]"
   ]
  },
  {
   "cell_type": "code",
   "execution_count": null,
   "metadata": {},
   "outputs": [],
   "source": []
  }
 ],
 "metadata": {
  "kernelspec": {
   "display_name": "Python 3",
   "language": "python",
   "name": "python3"
  },
  "language_info": {
   "codemirror_mode": {
    "name": "ipython",
    "version": 3
   },
   "file_extension": ".py",
   "mimetype": "text/x-python",
   "name": "python",
   "nbconvert_exporter": "python",
   "pygments_lexer": "ipython3",
   "version": "3.6.6"
  }
 },
 "nbformat": 4,
 "nbformat_minor": 2
}
